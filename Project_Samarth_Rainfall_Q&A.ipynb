{
  "nbformat": 4,
  "nbformat_minor": 0,
  "metadata": {
    "colab": {
      "provenance": [],
      "authorship_tag": "ABX9TyMQCNklQoOubcXaKnZIPyLa",
      "include_colab_link": true
    },
    "kernelspec": {
      "name": "python3",
      "display_name": "Python 3"
    },
    "language_info": {
      "name": "python"
    }
  },
  "cells": [
    {
      "cell_type": "markdown",
      "metadata": {
        "id": "view-in-github",
        "colab_type": "text"
      },
      "source": [
        "<a href=\"https://colab.research.google.com/github/kumariritesh/Sales-Data-Analysis/blob/main/Project_Samarth_Rainfall_Q%26A.ipynb\" target=\"_parent\"><img src=\"https://colab.research.google.com/assets/colab-badge.svg\" alt=\"Open In Colab\"/></a>"
      ]
    },
    {
      "cell_type": "markdown",
      "source": [
        "#Project Samarth — Rainfall Q&A Prototype\n",
        "### Submitted for Digital Bharat Fellowship\n",
        "This notebook demonstrates a small end-to-end prototype that uses real government rainfall datasets (from data.gov.in)  \n",
        "to answer user questions about rainfall patterns in Madhya Pradesh and Maharashtra.  \n",
        "Developed using Python and Pandas on Google Colab.\n",
        "\n"
      ],
      "metadata": {
        "id": "kYnpyudOD5ut"
      }
    },
    {
      "cell_type": "code",
      "execution_count": 9,
      "metadata": {
        "colab": {
          "base_uri": "https://localhost:8080/"
        },
        "id": "fyt3xVeY7b59",
        "outputId": "1c5c33b5-cda7-4eaf-b1af-2770b63f93c8"
      },
      "outputs": [
        {
          "output_type": "stream",
          "name": "stdout",
          "text": [
            "Drive already mounted at /content/drive; to attempt to forcibly remount, call drive.mount(\"/content/drive\", force_remount=True).\n",
            "'Add a heading.png'\n",
            "'assignment python 2.pdf'\n",
            "'Beige Minimalist Collage Instagram Post (1).jpg'\n",
            "'Beige Minimalist Collage Instagram Post.jpg'\n",
            "'Colab Notebooks'\n",
            "'Instagram Influencer Resea.png'\n",
            "'Make Foundation Use Case.gsheet'\n",
            "'memory management.pdf'\n",
            "'Modern Success Empowering Quote Instagram Post.jpg'\n",
            " MP_Yearly_Consolidated_Rainfall_Data_1_1.csv\n",
            " my.pdf\n",
            "'My resume .jpg'\n",
            "'my resume.pdf'\n",
            " Revised_Thane_DailyRainfall_1.csv\n",
            "'Ritesh’s 2025.png'\n",
            " SampleSuperstore.csv.zip\n",
            " sem6.pdf\n",
            " Snapchat-1962146823.jpg\n",
            "'The Psychology of Persuasion.pdf'\n",
            " theresume.pdf\n",
            "'White and Beige Minimalist Graphic Designer Professional Cv Resume.pdf'\n",
            "'White and Beige Minimalist Graphic Designer Professional Cv Resume.png'\n",
            "'White Black Minimal Elegant Makeup Artist Logo.png'\n",
            "'white simple student cv resume.pdf'\n",
            "'white simple student cv resume.png'\n"
          ]
        }
      ],
      "source": [
        "from google.colab import drive\n",
        "import os\n",
        "\n",
        "# create the folder where Drive will be mounted\n",
        "os.makedirs(\"/content/drive\", exist_ok=True)\n",
        "\n",
        "# mount Google Drive\n",
        "drive.mount(\"/content/drive\")\n",
        "\n",
        "!ls /content/drive/MyDrive\n"
      ]
    },
    {
      "cell_type": "code",
      "source": [
        "import pandas as pd\n",
        "\n",
        "mp = pd.read_csv('/content/drive/MyDrive/MP_Yearly_Consolidated_Rainfall_Data_1_1.csv')\n",
        "thane = pd.read_csv('/content/drive/MyDrive/Revised_Thane_DailyRainfall_1.csv')"
      ],
      "metadata": {
        "id": "YG9-GShQ8eCV"
      },
      "execution_count": 10,
      "outputs": []
    },
    {
      "cell_type": "code",
      "source": [
        "import pandas as pd\n",
        "\n",
        "# Load your rainfall data\n",
        "mp = pd.read_csv(\"/content/drive/MyDrive/MP_Yearly_Consolidated_Rainfall_Data_1_1.csv\")\n",
        "thane = pd.read_csv(\"/content/drive/MyDrive/Revised_Thane_DailyRainfall_1.csv\")\n",
        "\n",
        "# Fix date column safely\n",
        "thane['Date'] = pd.to_datetime(thane['Date'], errors='coerce', dayfirst=True)\n",
        "thane = thane.dropna(subset=['Date'])\n",
        "\n",
        "# Calculate averages\n",
        "mp_avg = mp[['2011 Actual Rainfall', '2012 Actual Rainfall', '2013 Actual Rainfall', '2014 Actual Rainfall']].mean().mean()\n",
        "\n",
        "thane['Year'] = thane['Date'].dt.year\n",
        "thane_yearly = thane.groupby('Year')['Daily Rainfall (m.m)'].max().mean()\n",
        "\n",
        "\n",
        "# User input\n",
        "question = input(\"Ask your question: \")\n",
        "\n",
        "if \"rainfall\" in question.lower():\n",
        "    print(f\"Average rainfall in Madhya Pradesh (2011–2014): {round(mp_avg, 2)} mm\")\n",
        "    print(f\"Average total rainfall in Thane, Maharashtra: {round(thane_yearly, 2)} mm\")\n",
        "    print(\"\\nSource: data.gov.in (IMD rainfall datasets)\")\n",
        "else:\n",
        "    print(\"Sorry, I can only answer rainfall-related questions right now.\")"
      ],
      "metadata": {
        "colab": {
          "base_uri": "https://localhost:8080/"
        },
        "id": "wA8auUlh-Fmf",
        "outputId": "cb2351ca-3229-4590-ba4d-cff7ca298a57"
      },
      "execution_count": 20,
      "outputs": [
        {
          "output_type": "stream",
          "name": "stdout",
          "text": [
            "Ask your question: average rainfall in madhyapradesh\n",
            "Average rainfall in Madhya Pradesh (2011–2014): 1040.93 mm\n",
            "Average total rainfall in Thane, Maharashtra: 159.1 mm\n",
            "\n",
            "Source: data.gov.in (IMD rainfall datasets)\n"
          ]
        }
      ]
    }
  ]
}